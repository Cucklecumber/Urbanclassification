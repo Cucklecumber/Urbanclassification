{
 "cells": [
  {
   "cell_type": "code",
   "execution_count": 2,
   "metadata": {},
   "outputs": [],
   "source": [
    "from tqdm import tqdm\n",
    "import librosa as lb\n",
    "import numpy as np\n",
    "import pandas as pd\n",
    "import os\n",
    "import matplotlib.pyplot as plt\n",
    "\n",
    "\n",
    "\n",
    "import os\n",
    "import pickle as pkl\n",
    "from keras.utils import to_categorical\n",
    "\n",
    "from sklearn.model_selection import train_test_split\n"
   ]
  },
  {
   "cell_type": "code",
   "execution_count": 3,
   "metadata": {},
   "outputs": [],
   "source": [
    "\n",
    "\n",
    "feature_types = ['mfcc', 'lfcc', 'spectrogram', 'stft']\n",
    "feature_type = 'stft'\n",
    "\n",
    "model_checkpoint_filepath = './models/mfcc_ann.h5'\n",
    "\n",
    "training_history_filepath = \"./models/mfcc_ann_train_history.pkl\"\n",
    "\n",
    "extracted_data_filepath = \"./feature_extraction_data/mfcc_USD_Folds.pkl\"\n",
    "\n",
    "re_train = True #Train Model Again\n",
    "\n",
    "re_feature_extract = False #Feature Extract Again\n",
    "\n"
   ]
  },
  {
   "cell_type": "code",
   "execution_count": 4,
   "metadata": {},
   "outputs": [],
   "source": [
    "EPOCHS = 100\n",
    "BATCH_SIZE = 64"
   ]
  },
  {
   "cell_type": "code",
   "execution_count": 5,
   "metadata": {},
   "outputs": [],
   "source": [
    "df = pd.read_csv('UrbanSound8K.csv')"
   ]
  },
  {
   "cell_type": "code",
   "execution_count": 9,
   "metadata": {},
   "outputs": [
    {
     "name": "stderr",
     "output_type": "stream",
     "text": [
      "0it [00:00, ?it/s]\n"
     ]
    },
    {
     "ename": "AttributeError",
     "evalue": "module 'librosa.feature' has no attribute 'lfcc'",
     "output_type": "error",
     "traceback": [
      "\u001b[1;31m---------------------------------------------------------------------------\u001b[0m",
      "\u001b[1;31mAttributeError\u001b[0m                            Traceback (most recent call last)",
      "\u001b[1;32m~\\AppData\\Local\\Temp/ipykernel_84720/1603627444.py\u001b[0m in \u001b[0;36m<module>\u001b[1;34m\u001b[0m\n\u001b[0;32m     33\u001b[0m \u001b[1;33m\u001b[0m\u001b[0m\n\u001b[0;32m     34\u001b[0m \u001b[1;33m\u001b[0m\u001b[0m\n\u001b[1;32m---> 35\u001b[1;33m     \u001b[0mlfcc_x\u001b[0m\u001b[1;33m.\u001b[0m\u001b[0mappend\u001b[0m\u001b[1;33m(\u001b[0m\u001b[0mlfcc_feature_extractor\u001b[0m\u001b[1;33m(\u001b[0m\u001b[0mpath\u001b[0m\u001b[1;33m)\u001b[0m\u001b[1;33m)\u001b[0m\u001b[1;33m\u001b[0m\u001b[1;33m\u001b[0m\u001b[0m\n\u001b[0m\u001b[0;32m     36\u001b[0m     \u001b[0mlfcc_y\u001b[0m\u001b[1;33m.\u001b[0m\u001b[0mappend\u001b[0m\u001b[1;33m(\u001b[0m\u001b[0mrows\u001b[0m\u001b[1;33m[\u001b[0m\u001b[1;34m'classID'\u001b[0m\u001b[1;33m]\u001b[0m\u001b[1;33m)\u001b[0m\u001b[1;33m\u001b[0m\u001b[1;33m\u001b[0m\u001b[0m\n\u001b[0;32m     37\u001b[0m \u001b[1;33m\u001b[0m\u001b[0m\n",
      "\u001b[1;32m~\\AppData\\Local\\Temp/ipykernel_84720/1603627444.py\u001b[0m in \u001b[0;36mlfcc_feature_extractor\u001b[1;34m(path)\u001b[0m\n\u001b[0;32m      7\u001b[0m \u001b[1;32mdef\u001b[0m \u001b[0mlfcc_feature_extractor\u001b[0m\u001b[1;33m(\u001b[0m\u001b[0mpath\u001b[0m\u001b[1;33m)\u001b[0m\u001b[1;33m:\u001b[0m\u001b[1;33m\u001b[0m\u001b[1;33m\u001b[0m\u001b[0m\n\u001b[0;32m      8\u001b[0m     \u001b[0mdata\u001b[0m\u001b[1;33m,\u001b[0m \u001b[0msample_rate\u001b[0m \u001b[1;33m=\u001b[0m \u001b[0mlb\u001b[0m\u001b[1;33m.\u001b[0m\u001b[0mload\u001b[0m\u001b[1;33m(\u001b[0m\u001b[0mpath\u001b[0m\u001b[1;33m,\u001b[0m \u001b[0mres_type\u001b[0m\u001b[1;33m=\u001b[0m\u001b[1;34m'kaiser_fast'\u001b[0m\u001b[1;33m)\u001b[0m\u001b[1;33m\u001b[0m\u001b[1;33m\u001b[0m\u001b[0m\n\u001b[1;32m----> 9\u001b[1;33m     \u001b[0mlfcc\u001b[0m \u001b[1;33m=\u001b[0m \u001b[0mlb\u001b[0m\u001b[1;33m.\u001b[0m\u001b[0mfeature\u001b[0m\u001b[1;33m.\u001b[0m\u001b[0mlfcc\u001b[0m\u001b[1;33m(\u001b[0m\u001b[0mdata\u001b[0m\u001b[1;33m,\u001b[0m \u001b[0mn_mfcc\u001b[0m\u001b[1;33m=\u001b[0m\u001b[1;36m128\u001b[0m\u001b[1;33m)\u001b[0m\u001b[1;33m\u001b[0m\u001b[1;33m\u001b[0m\u001b[0m\n\u001b[0m\u001b[0;32m     10\u001b[0m     \u001b[0mlfcc_features\u001b[0m \u001b[1;33m=\u001b[0m \u001b[0mnp\u001b[0m\u001b[1;33m.\u001b[0m\u001b[0mmean\u001b[0m\u001b[1;33m(\u001b[0m\u001b[0mlfcc\u001b[0m\u001b[1;33m,\u001b[0m \u001b[0maxis\u001b[0m\u001b[1;33m=\u001b[0m\u001b[1;36m1\u001b[0m\u001b[1;33m)\u001b[0m\u001b[1;33m\u001b[0m\u001b[1;33m\u001b[0m\u001b[0m\n\u001b[0;32m     11\u001b[0m     \u001b[1;32mreturn\u001b[0m \u001b[0mlfcc_features\u001b[0m\u001b[1;33m\u001b[0m\u001b[1;33m\u001b[0m\u001b[0m\n",
      "\u001b[1;31mAttributeError\u001b[0m: module 'librosa.feature' has no attribute 'lfcc'"
     ]
    }
   ],
   "source": [
    "def spectrograms_feature_extractor(path):\n",
    "    data, sample_rate = lb.load(path, res_type='kaiser_fast')\n",
    "    spectrogram = np.abs(lb.stft(data, n_fft=128))**2           #diff is in the power to 2, amplifies higher magintude values and suppresses lower ones\n",
    "    spectrogram_features = np.mean(spectrogram, axis=1)\n",
    "    return spectrogram_features\n",
    "\n",
    "def lfcc_feature_extractor(path):\n",
    "    data, sample_rate = lb.load(path, res_type='kaiser_fast')\n",
    "    lfcc = lb.feature.lfcc(data, n_mfcc=128)\n",
    "    lfcc_features = np.mean(lfcc, axis=1)\n",
    "    return lfcc_features\n",
    "\n",
    "def mfcc_feature_extractor(path):\n",
    "    data, simple_rate = lb.load(path, res_type='kaiser_fast')\n",
    "    data = lb.feature.mfcc(data, n_mfcc=128)\n",
    "    data = np.mean(data,axis=1)\n",
    "    return data\n",
    "\n",
    "def stfts_feature_extractor(path):\n",
    "    data, sample_rate = lb.load(path, res_type='kaiser_fast')\n",
    "    stft = np.abs(lb.stft(data, n_fft=128))\n",
    "    stft_features = np.mean(stft, axis=1)\n",
    "    return stft_features\n",
    "\n",
    "\n",
    "\n",
    "lfcc_x, lfcc_y = [], []\n",
    "stft_x, stft_y = [], []\n",
    "spec_x, spec_y = [], []\n",
    "\n",
    "for i,rows in tqdm(df.iterrows()):\n",
    "    path = '../data/UrbanSoundDatabaseFolds/' + 'fold' + str(rows['fold']) + '/' + str(rows['slice_file_name'])\n",
    "    \n",
    "    \n",
    "    lfcc_x.append(lfcc_feature_extractor(path))\n",
    "    lfcc_y.append(rows['classID'])\n",
    "    \n",
    "    stft_x.append(stft_feature_extractor(path))\n",
    "    stft_y.append(rows['classID'])\n",
    "    \n",
    "    spec_x.append(spectrogram_feature_extractor(path))\n",
    "    spec_y.append(rows['classID'])\n",
    "    \n",
    "    \n",
    "        \n",
    "lfcc_x = np.array(lfcc_x)\n",
    "lfcc_y = np.array(lfcc_y)\n",
    "lfcc_y = to_categorical(lfcc_y)\n",
    "\n",
    "stft_x = np.array(stft_x)\n",
    "stft_y = np.array(stft_y)\n",
    "stft_y = to_categorical(stft_y)\n",
    "\n",
    "spec_x = np.array(spec_x)\n",
    "spec_y = np.array(spec_y)\n",
    "spec_y = to_categorical(spec_y)\n",
    "    \n",
    "    \n",
    "#saving to pickle\n",
    "with open('./feature_extraction_data/lfcc_USD_Folds.pkl', 'wb') as file:\n",
    "    pkl.dump((lfcc_x, lfcc_y), file)\n",
    "    \n",
    "with open('./feature_extraction_data/stft_USD_Folds.pkl', 'wb') as file:\n",
    "    pkl.dump((stft_x, stft_y), file)\n",
    "    \n",
    "with open('./feature_extraction_data/spec_USD_Folds.pkl', 'wb') as file:\n",
    "    pkl.dump((spec_x, spec_y), file)"
   ]
  },
  {
   "cell_type": "code",
   "execution_count": null,
   "metadata": {},
   "outputs": [],
   "source": [
    "from keras.layers import Dense, Activation, Flatten, Dropout, BatchNormalization\n",
    "from keras.models import Sequential, Model\n",
    "from keras.layers import Conv2D, MaxPooling2D\n",
    "from tensorflow.keras import regularizers, optimizers\n",
    "from keras.callbacks import ModelCheckpoint\n",
    "from keras.models import load_model"
   ]
  },
  {
   "cell_type": "code",
   "execution_count": null,
   "metadata": {},
   "outputs": [],
   "source": [
    "from sklearn.metrics import confusion_matrix, plot_confusion_matrix\n",
    "import matplotlib.pyplot as plt\n",
    "from sklearn.metrics import f1_score"
   ]
  }
 ],
 "metadata": {
  "kernelspec": {
   "display_name": "Python 3",
   "language": "python",
   "name": "python3"
  },
  "language_info": {
   "codemirror_mode": {
    "name": "ipython",
    "version": 3
   },
   "file_extension": ".py",
   "mimetype": "text/x-python",
   "name": "python",
   "nbconvert_exporter": "python",
   "pygments_lexer": "ipython3",
   "version": "3.8.4rc1"
  },
  "orig_nbformat": 4,
  "vscode": {
   "interpreter": {
    "hash": "96cec487207b392fa9d2d5631fb8426bf20c81886020bda584338f1114db8ee4"
   }
  }
 },
 "nbformat": 4,
 "nbformat_minor": 2
}
